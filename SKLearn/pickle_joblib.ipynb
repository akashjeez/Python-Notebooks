{
 "cells": [
  {
   "cell_type": "code",
   "execution_count": 10,
   "metadata": {},
   "outputs": [],
   "source": [
    "import pandas as pd\n",
    "from sklearn import linear_model"
   ]
  },
  {
   "cell_type": "code",
   "execution_count": 11,
   "metadata": {},
   "outputs": [
    {
     "data": {
      "text/html": [
       "<div>\n",
       "<style scoped>\n",
       "    .dataframe tbody tr th:only-of-type {\n",
       "        vertical-align: middle;\n",
       "    }\n",
       "\n",
       "    .dataframe tbody tr th {\n",
       "        vertical-align: top;\n",
       "    }\n",
       "\n",
       "    .dataframe thead th {\n",
       "        text-align: right;\n",
       "    }\n",
       "</style>\n",
       "<table border=\"1\" class=\"dataframe\">\n",
       "  <thead>\n",
       "    <tr style=\"text-align: right;\">\n",
       "      <th></th>\n",
       "      <th>area</th>\n",
       "      <th>price</th>\n",
       "    </tr>\n",
       "  </thead>\n",
       "  <tbody>\n",
       "    <tr>\n",
       "      <th>0</th>\n",
       "      <td>2600</td>\n",
       "      <td>550000</td>\n",
       "    </tr>\n",
       "    <tr>\n",
       "      <th>1</th>\n",
       "      <td>3000</td>\n",
       "      <td>565000</td>\n",
       "    </tr>\n",
       "    <tr>\n",
       "      <th>2</th>\n",
       "      <td>3200</td>\n",
       "      <td>610000</td>\n",
       "    </tr>\n",
       "    <tr>\n",
       "      <th>3</th>\n",
       "      <td>3600</td>\n",
       "      <td>680000</td>\n",
       "    </tr>\n",
       "    <tr>\n",
       "      <th>4</th>\n",
       "      <td>4000</td>\n",
       "      <td>725000</td>\n",
       "    </tr>\n",
       "  </tbody>\n",
       "</table>\n",
       "</div>"
      ],
      "text/plain": [
       "   area   price\n",
       "0  2600  550000\n",
       "1  3000  565000\n",
       "2  3200  610000\n",
       "3  3600  680000\n",
       "4  4000  725000"
      ]
     },
     "execution_count": 11,
     "metadata": {},
     "output_type": "execute_result"
    }
   ],
   "source": [
    "df = pd.read_excel('dataset/homeprices.xlsx')\n",
    "df"
   ]
  },
  {
   "cell_type": "code",
   "execution_count": 12,
   "metadata": {},
   "outputs": [
    {
     "data": {
      "text/plain": [
       "LinearRegression(copy_X=True, fit_intercept=True, n_jobs=None,\n",
       "         normalize=False)"
      ]
     },
     "execution_count": 12,
     "metadata": {},
     "output_type": "execute_result"
    }
   ],
   "source": [
    "## Linear Regression Model - Single Variable\n",
    "reg = linear_model.LinearRegression()\n",
    "## fit() - training linear regression model using available data points.\n",
    "reg.fit(df[['area']], df.price)"
   ]
  },
  {
   "cell_type": "code",
   "execution_count": 13,
   "metadata": {},
   "outputs": [
    {
     "name": "stdout",
     "output_type": "stream",
     "text": [
      " Coefficient : [135.78767123]\n",
      " Intercept : 180616.43835616432\n",
      " Prediction for Area 3300 : [628715.75342466]\n",
      " Price for Area 3300 : [628715.75342466]\n",
      " Prediction for Area 5000 : [859554.79452055]\n",
      " Price for Area 5000 : [859554.79452055]\n"
     ]
    }
   ],
   "source": [
    "## y = mx+b // m is slope(or)coefficient and b is intercept\n",
    "## price = coefficient * area + intercept\n",
    "\n",
    "print(f\" Coefficient : {reg.coef_}\")\n",
    "print(f\" Intercept : {reg.intercept_}\")\n",
    "\n",
    "new_area = 3300\n",
    "print(f\" Prediction for Area 3300 : {reg.predict([[new_area]])}\")\n",
    "y = reg.coef_ * new_area + reg.intercept_\n",
    "print(f\" Price for Area 3300 : {y}\")\n",
    "\n",
    "new_area = 5000\n",
    "print(f\" Prediction for Area 5000 : {reg.predict([[new_area]])}\")\n",
    "y = reg.coef_ * new_area + reg.intercept_\n",
    "print(f\" Price for Area 5000 : {y}\")"
   ]
  },
  {
   "cell_type": "code",
   "execution_count": 20,
   "metadata": {},
   "outputs": [],
   "source": [
    "## Method 1 - Save training Model using Pickle\n",
    "## Pickle - serialize python object into a file.\n",
    "import pickle\n",
    "\n",
    "with open('linear_model_pickle', 'wb') as f:\n",
    "    pickle.dump(reg, f)\n",
    "    \n",
    "# it will create pickle file in local directory, later you can load it \n",
    "# and directly pass input data to predictit by using this trained model."
   ]
  },
  {
   "cell_type": "code",
   "execution_count": 25,
   "metadata": {},
   "outputs": [
    {
     "name": "stdout",
     "output_type": "stream",
     "text": [
      " Prediction : [859554.79452055]\n",
      " Price : [859554.79452055]\n"
     ]
    }
   ],
   "source": [
    "with open('linear_model_pickle', 'rb') as f:\n",
    "    trained_model_1 = pickle.load(f)\n",
    "    \n",
    "new_area = 5000\n",
    "print(f\" Prediction : {trained_model_1.predict([[new_area]])}\")\n",
    "y = trained_model_1.coef_ * new_area + trained_model_1.intercept_\n",
    "print(f\" Price : {y}\")"
   ]
  },
  {
   "cell_type": "code",
   "execution_count": 26,
   "metadata": {},
   "outputs": [
    {
     "data": {
      "text/plain": [
       "['linear_model_joblib']"
      ]
     },
     "execution_count": 26,
     "metadata": {},
     "output_type": "execute_result"
    }
   ],
   "source": [
    "## Method 2 - Save training Model using SkLearn JobLib.\n",
    "from sklearn.externals import joblib\n",
    "joblib.dump(reg, 'linear_model_joblib')"
   ]
  },
  {
   "cell_type": "code",
   "execution_count": 27,
   "metadata": {},
   "outputs": [
    {
     "name": "stdout",
     "output_type": "stream",
     "text": [
      " Prediction : [859554.79452055]\n",
      " Price : [859554.79452055]\n"
     ]
    }
   ],
   "source": [
    "trained_model_2 = joblib.load('linear_model_joblib')\n",
    "\n",
    "new_area = 5000\n",
    "print(f\" Prediction : {trained_model_2.predict([[new_area]])}\")\n",
    "y = trained_model_2.coef_ * new_area + trained_model_2.intercept_\n",
    "print(f\" Price : {y}\")"
   ]
  }
 ],
 "metadata": {
  "kernelspec": {
   "display_name": "Python 3",
   "language": "python",
   "name": "python3"
  },
  "language_info": {
   "codemirror_mode": {
    "name": "ipython",
    "version": 3
   },
   "file_extension": ".py",
   "mimetype": "text/x-python",
   "name": "python",
   "nbconvert_exporter": "python",
   "pygments_lexer": "ipython3",
   "version": "3.7.5"
  }
 },
 "nbformat": 4,
 "nbformat_minor": 2
}
